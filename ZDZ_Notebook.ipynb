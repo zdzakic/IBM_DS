{
 "cells": [
  {
   "cell_type": "markdown",
   "metadata": {
    "collapsed": true
   },
   "source": [
    "# My Jupyter Notebook on IBM Watson Studio"
   ]
  },
  {
   "cell_type": "markdown",
   "metadata": {},
   "source": [
    "**Zeljko Dzakic** <br>\n",
    "Current Ocuppation: IT Consultant "
   ]
  },
  {
   "cell_type": "markdown",
   "metadata": {},
   "source": [
    "*I am very much interested in the Data Science so I can have more insight into my own sport data accumulated over the years*"
   ]
  },
  {
   "cell_type": "markdown",
   "metadata": {},
   "source": [
    "### Below simple  function returns math square  for the given number"
   ]
  },
  {
   "cell_type": "code",
   "execution_count": 9,
   "metadata": {},
   "outputs": [
    {
     "name": "stdout",
     "output_type": "stream",
     "text": [
      "256\n"
     ]
    }
   ],
   "source": [
    "def give_me_square_pls(num):\n",
    "    ''' prints square of a given number '''\n",
    "    print(num * num)\n",
    "\n",
    "\n",
    "give_me_square_pls(16)"
   ]
  },
  {
   "cell_type": "markdown",
   "metadata": {},
   "source": [
    "#Horizontal Line\n",
    "***\n",
    "\n",
    "#Bulleted list\n",
    "* List Item 1 \n",
    "* List Item 2 \n",
    "* List Item 3\n",
    "\n",
    "#Numbered list\n",
    "1. Item 1\n",
    "2. Item 2\n",
    "3. Item 3\n",
    "\n",
    "#Hyper links <br>\n",
    "__[ibm](https://www.ibm.com)__ <br>\n",
    "__[dell](https://www.dell.com)__ <br>\n",
    "__[hp](https://www.hp.com)__ <br>\n",
    "\n",
    "\n",
    "Name | DOF | Occupation\n",
    "----- | ----- | -----\n",
    "Zeljko Dzakic|*Some time ago*| **Pilot**\n",
    "Joe Doe | *22.02.2022* | **baby**\n"
   ]
  },
  {
   "cell_type": "code",
   "execution_count": null,
   "metadata": {},
   "outputs": [],
   "source": []
  }
 ],
 "metadata": {
  "kernelspec": {
   "display_name": "Python 3.9",
   "language": "python",
   "name": "python3"
  },
  "language_info": {
   "codemirror_mode": {
    "name": "ipython",
    "version": 3
   },
   "file_extension": ".py",
   "mimetype": "text/x-python",
   "name": "python",
   "nbconvert_exporter": "python",
   "pygments_lexer": "ipython3",
   "version": "3.9.13"
  }
 },
 "nbformat": 4,
 "nbformat_minor": 1
}
